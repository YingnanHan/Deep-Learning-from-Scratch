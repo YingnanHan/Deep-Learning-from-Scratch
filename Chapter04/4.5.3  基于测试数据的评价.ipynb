{
 "cells": [
  {
   "cell_type": "code",
   "execution_count": 1,
   "metadata": {},
   "outputs": [],
   "source": [
    "import numpy as np\n",
    "import matplotlib.pyplot as plt\n",
    "from dataset.mnist import load_mnist\n",
    "from two_layer_net import TwoLayerNet"
   ]
  },
  {
   "cell_type": "code",
   "execution_count": 2,
   "metadata": {},
   "outputs": [],
   "source": [
    "(x_train,t_train),(x_test,t_test) = load_mnist(normalize=True,one_hot_label=True)"
   ]
  },
  {
   "cell_type": "code",
   "execution_count": 3,
   "metadata": {},
   "outputs": [],
   "source": [
    "#设置超参数\n",
    "iters_num = 10000\n",
    "train_size = x_train.shape[0]\n",
    "batch_size  =100\n",
    "learning_rate = 0.1"
   ]
  },
  {
   "cell_type": "code",
   "execution_count": 4,
   "metadata": {},
   "outputs": [],
   "source": [
    "train_loss_list = []\n",
    "train_acc_list = []\n",
    "test_acc_list = []\n",
    "#平均每一个epoch的重复次数\n",
    "iter_per_epoch = max(train_size/batch_size,1)"
   ]
  },
  {
   "cell_type": "code",
   "execution_count": 5,
   "metadata": {},
   "outputs": [],
   "source": [
    "network = TwoLayerNet(input_size=784,hidden_size=50,output_size=10)"
   ]
  },
  {
   "cell_type": "code",
   "execution_count": 6,
   "metadata": {},
   "outputs": [
    {
     "name": "stdout",
     "output_type": "stream",
     "text": [
      "train acc,test acc | 0.10218333333333333,0.101\n",
      "train acc,test acc | 0.7815166666666666,0.7915\n",
      "train acc,test acc | 0.8786333333333334,0.883\n",
      "train acc,test acc | 0.8976333333333333,0.9011\n",
      "train acc,test acc | 0.9079833333333334,0.9124\n",
      "train acc,test acc | 0.9144833333333333,0.9183\n",
      "train acc,test acc | 0.9193666666666667,0.9221\n",
      "train acc,test acc | 0.92425,0.9261\n",
      "train acc,test acc | 0.9270166666666667,0.9286\n",
      "train acc,test acc | 0.9312333333333334,0.9326\n",
      "train acc,test acc | 0.9332,0.9351\n",
      "train acc,test acc | 0.9353,0.9356\n",
      "train acc,test acc | 0.9386333333333333,0.9385\n",
      "train acc,test acc | 0.9403,0.9393\n",
      "train acc,test acc | 0.9427,0.9409\n",
      "train acc,test acc | 0.9448166666666666,0.9432\n",
      "train acc,test acc | 0.9459,0.9447\n"
     ]
    }
   ],
   "source": [
    "for i in range(iters_num):\n",
    "    #获取mini-batch\n",
    "    batch_mask = np.random.choice(train_size,batch_size)\n",
    "    x_batch = x_train[batch_mask]\n",
    "    t_batch = t_train[batch_mask]\n",
    "    \n",
    "    #计算梯度\n",
    "    grad = network.gradient(x_batch,t_batch)\n",
    "    \n",
    "    #更新参数\n",
    "    for key in ('W1','b1','W2','b2'):\n",
    "        network.params[key] -= learning_rate*grad[key]\n",
    "    \n",
    "    #计算损失\n",
    "    loss = network.loss(x_batch,t_batch)\n",
    "    train_loss_list.append(loss)\n",
    "    \n",
    "    #计算每一个epoch的识别精度\n",
    "    if i % iter_per_epoch == 0:#每执行完一个epoch周期，进行一次计算\n",
    "        train_acc = network.accuracy(x_train,t_train)\n",
    "        test_acc = network.accuracy(x_test,t_test)\n",
    "        train_acc_list.append(train_acc)\n",
    "        test_acc_list.append(test_acc)\n",
    "        \n",
    "        print(\"train acc,test acc | \"+str(train_acc)+\",\"+str(test_acc))"
   ]
  },
  {
   "cell_type": "code",
   "execution_count": 7,
   "metadata": {},
   "outputs": [
    {
     "data": {
      "image/png": "[encoded data removed]",
      "text/plain": [
       "<Figure size 432x288 with 1 Axes>"
      ]
     },
     "metadata": {
      "needs_background": "light"
     },
     "output_type": "display_data"
    }
   ],
   "source": [
    "# 绘制图形\n",
    "markers = {'train': 'o', 'test': 's'}\n",
    "x = np.arange(len(train_acc_list))\n",
    "plt.plot(x, train_acc_list, label='train acc')\n",
    "plt.plot(x, test_acc_list, label='test acc', linestyle='--')\n",
    "plt.xlabel(\"epochs\")\n",
    "plt.ylabel(\"accuracy\")\n",
    "plt.ylim(0, 1.0)\n",
    "plt.legend(loc='lower right')\n",
    "plt.show()"
   ]
  }
 ],
 "metadata": {
  "kernelspec": {
   "display_name": "Python 3",
   "language": "python",
   "name": "python3"
  },
  "language_info": {
   "codemirror_mode": {
    "name": "ipython",
    "version": 3
   },
   "file_extension": ".py",
   "mimetype": "text/x-python",
   "name": "python",
   "nbconvert_exporter": "python",
   "pygments_lexer": "ipython3",
   "version": "3.8.5"
  }
 },
 "nbformat": 4,
 "nbformat_minor": 4
}
