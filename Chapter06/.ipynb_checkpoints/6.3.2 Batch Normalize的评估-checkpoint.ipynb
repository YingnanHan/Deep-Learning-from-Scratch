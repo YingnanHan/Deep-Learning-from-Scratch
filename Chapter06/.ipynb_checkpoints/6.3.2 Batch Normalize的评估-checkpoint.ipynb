{
 "cells": [
  {
   "cell_type": "code",
   "execution_count": 2,
   "id": "9236b201",
   "metadata": {},
   "outputs": [
    {
     "name": "stdout",
     "output_type": "stream",
     "text": [
      "============== 1/16 ==============\n",
      "epoch:0 | 0.094 - 0.106\n",
      "epoch:1 | 0.097 - 0.127\n"
     ]
    },
    {
     "name": "stderr",
     "output_type": "stream",
     "text": [
      "C:\\Users\\Administrator\\Desktop\\深度学习入门基于Python的理论与实现\\Chapter06\\common\\multi_layer_net_extend.py:101: RuntimeWarning: overflow encountered in square\n",
      "  weight_decay += 0.5 * self.weight_decay_lambda * np.sum(W**2)\n",
      "C:\\Users\\Administrator\\Desktop\\深度学习入门基于Python的理论与实现\\Chapter06\\common\\multi_layer_net_extend.py:101: RuntimeWarning: invalid value encountered in double_scalars\n",
      "  weight_decay += 0.5 * self.weight_decay_lambda * np.sum(W**2)\n"
     ]
    },
    {
     "name": "stdout",
     "output_type": "stream",
     "text": [
      "epoch:2 | 0.097 - 0.16\n",
      "epoch:3 | 0.097 - 0.193\n",
      "epoch:4 | 0.097 - 0.21\n",
      "epoch:5 | 0.097 - 0.233\n",
      "epoch:6 | 0.097 - 0.256\n",
      "epoch:7 | 0.097 - 0.27\n",
      "epoch:8 | 0.097 - 0.3\n",
      "epoch:9 | 0.097 - 0.311\n",
      "epoch:10 | 0.097 - 0.327\n",
      "epoch:11 | 0.097 - 0.342\n",
      "epoch:12 | 0.097 - 0.351\n",
      "epoch:13 | 0.097 - 0.368\n",
      "epoch:14 | 0.097 - 0.374\n",
      "epoch:15 | 0.097 - 0.381\n",
      "epoch:16 | 0.097 - 0.406\n",
      "epoch:17 | 0.097 - 0.416\n"
     ]
    },
    {
     "name": "stderr",
     "output_type": "stream",
     "text": [
      "No handles with labels found to put in legend.\n"
     ]
    },
    {
     "name": "stdout",
     "output_type": "stream",
     "text": [
      "epoch:18 | 0.097 - 0.433\n",
      "epoch:19 | 0.097 - 0.446\n",
      "============== 2/16 ==============\n",
      "epoch:0 | 0.087 - 0.095\n"
     ]
    },
    {
     "name": "stderr",
     "output_type": "stream",
     "text": [
      "C:\\Users\\Administrator\\Desktop\\深度学习入门基于Python的理论与实现\\Chapter06\\common\\multi_layer_net_extend.py:101: RuntimeWarning: overflow encountered in square\n",
      "  weight_decay += 0.5 * self.weight_decay_lambda * np.sum(W**2)\n",
      "C:\\Users\\Administrator\\Desktop\\深度学习入门基于Python的理论与实现\\Chapter06\\common\\multi_layer_net_extend.py:101: RuntimeWarning: invalid value encountered in double_scalars\n",
      "  weight_decay += 0.5 * self.weight_decay_lambda * np.sum(W**2)\n",
      "C:\\Users\\Administrator\\Desktop\\深度学习入门基于Python的理论与实现\\Chapter06\\common\\functions.py:34: RuntimeWarning: invalid value encountered in subtract\n",
      "  x = x - np.max(x, axis=0)\n"
     ]
    },
    {
     "name": "stdout",
     "output_type": "stream",
     "text": [
      "epoch:1 | 0.097 - 0.101\n",
      "epoch:2 | 0.097 - 0.131\n",
      "epoch:3 | 0.097 - 0.163\n",
      "epoch:4 | 0.097 - 0.185\n",
      "epoch:5 | 0.097 - 0.208\n",
      "epoch:6 | 0.097 - 0.225\n",
      "epoch:7 | 0.097 - 0.255\n",
      "epoch:8 | 0.097 - 0.289\n",
      "epoch:9 | 0.097 - 0.306\n",
      "epoch:10 | 0.097 - 0.324\n",
      "epoch:11 | 0.097 - 0.344\n",
      "epoch:12 | 0.097 - 0.352\n",
      "epoch:13 | 0.097 - 0.376\n",
      "epoch:14 | 0.097 - 0.393\n",
      "epoch:15 | 0.097 - 0.418\n",
      "epoch:16 | 0.097 - 0.425\n",
      "epoch:17 | 0.097 - 0.436\n",
      "epoch:18 | 0.097 - 0.451\n"
     ]
    },
    {
     "name": "stderr",
     "output_type": "stream",
     "text": [
      "No handles with labels found to put in legend.\n"
     ]
    },
    {
     "name": "stdout",
     "output_type": "stream",
     "text": [
      "epoch:19 | 0.097 - 0.462\n",
      "============== 3/16 ==============\n",
      "epoch:0 | 0.14 - 0.076\n",
      "epoch:1 | 0.322 - 0.119\n",
      "epoch:2 | 0.477 - 0.148\n",
      "epoch:3 | 0.579 - 0.183\n",
      "epoch:4 | 0.628 - 0.233\n",
      "epoch:5 | 0.693 - 0.263\n",
      "epoch:6 | 0.729 - 0.311\n",
      "epoch:7 | 0.78 - 0.34\n",
      "epoch:8 | 0.821 - 0.371\n",
      "epoch:9 | 0.844 - 0.397\n",
      "epoch:10 | 0.852 - 0.416\n",
      "epoch:11 | 0.88 - 0.446\n",
      "epoch:12 | 0.894 - 0.471\n",
      "epoch:13 | 0.912 - 0.494\n",
      "epoch:14 | 0.916 - 0.523\n",
      "epoch:15 | 0.937 - 0.532\n",
      "epoch:16 | 0.944 - 0.571\n",
      "epoch:17 | 0.952 - 0.587\n"
     ]
    },
    {
     "name": "stderr",
     "output_type": "stream",
     "text": [
      "No handles with labels found to put in legend.\n"
     ]
    },
    {
     "name": "stdout",
     "output_type": "stream",
     "text": [
      "epoch:18 | 0.956 - 0.616\n",
      "epoch:19 | 0.968 - 0.637\n",
      "============== 4/16 ==============\n",
      "epoch:0 | 0.117 - 0.109\n",
      "epoch:1 | 0.288 - 0.108\n",
      "epoch:2 | 0.424 - 0.198\n",
      "epoch:3 | 0.536 - 0.274\n",
      "epoch:4 | 0.614 - 0.332\n",
      "epoch:5 | 0.658 - 0.391\n",
      "epoch:6 | 0.694 - 0.446\n",
      "epoch:7 | 0.716 - 0.493\n",
      "epoch:8 | 0.757 - 0.549\n",
      "epoch:9 | 0.748 - 0.584\n",
      "epoch:10 | 0.777 - 0.619\n",
      "epoch:11 | 0.813 - 0.651\n",
      "epoch:12 | 0.82 - 0.667\n",
      "epoch:13 | 0.831 - 0.69\n",
      "epoch:14 | 0.836 - 0.701\n",
      "epoch:15 | 0.841 - 0.724\n",
      "epoch:16 | 0.853 - 0.732\n",
      "epoch:17 | 0.856 - 0.752\n",
      "epoch:18 | 0.869 - 0.759\n"
     ]
    },
    {
     "name": "stderr",
     "output_type": "stream",
     "text": [
      "No handles with labels found to put in legend.\n"
     ]
    },
    {
     "name": "stdout",
     "output_type": "stream",
     "text": [
      "epoch:19 | 0.882 - 0.777\n",
      "============== 5/16 ==============\n",
      "epoch:0 | 0.126 - 0.108\n",
      "epoch:1 | 0.148 - 0.16\n",
      "epoch:2 | 0.155 - 0.308\n",
      "epoch:3 | 0.182 - 0.414\n",
      "epoch:4 | 0.19 - 0.496\n",
      "epoch:5 | 0.203 - 0.554\n",
      "epoch:6 | 0.222 - 0.614\n",
      "epoch:7 | 0.233 - 0.671\n",
      "epoch:8 | 0.254 - 0.69\n",
      "epoch:9 | 0.261 - 0.73\n",
      "epoch:10 | 0.271 - 0.757\n",
      "epoch:11 | 0.275 - 0.791\n",
      "epoch:12 | 0.284 - 0.807\n",
      "epoch:13 | 0.295 - 0.831\n",
      "epoch:14 | 0.304 - 0.839\n",
      "epoch:15 | 0.307 - 0.855\n",
      "epoch:16 | 0.314 - 0.87\n",
      "epoch:17 | 0.331 - 0.887\n"
     ]
    },
    {
     "name": "stderr",
     "output_type": "stream",
     "text": [
      "No handles with labels found to put in legend.\n"
     ]
    },
    {
     "name": "stdout",
     "output_type": "stream",
     "text": [
      "epoch:18 | 0.337 - 0.889\n",
      "epoch:19 | 0.347 - 0.902\n",
      "============== 6/16 ==============\n",
      "epoch:0 | 0.092 - 0.104\n",
      "epoch:1 | 0.082 - 0.203\n",
      "epoch:2 | 0.098 - 0.418\n",
      "epoch:3 | 0.168 - 0.551\n",
      "epoch:4 | 0.149 - 0.626\n",
      "epoch:5 | 0.119 - 0.691\n",
      "epoch:6 | 0.117 - 0.746\n",
      "epoch:7 | 0.117 - 0.774\n",
      "epoch:8 | 0.117 - 0.796\n",
      "epoch:9 | 0.117 - 0.828\n",
      "epoch:10 | 0.117 - 0.845\n",
      "epoch:11 | 0.117 - 0.856\n",
      "epoch:12 | 0.117 - 0.873\n",
      "epoch:13 | 0.117 - 0.886\n",
      "epoch:14 | 0.12 - 0.901\n",
      "epoch:15 | 0.124 - 0.912\n",
      "epoch:16 | 0.161 - 0.926\n",
      "epoch:17 | 0.118 - 0.934\n",
      "epoch:18 | 0.116 - 0.94\n"
     ]
    },
    {
     "name": "stderr",
     "output_type": "stream",
     "text": [
      "No handles with labels found to put in legend.\n"
     ]
    },
    {
     "name": "stdout",
     "output_type": "stream",
     "text": [
      "epoch:19 | 0.117 - 0.948\n",
      "============== 7/16 ==============\n",
      "epoch:0 | 0.117 - 0.088\n",
      "epoch:1 | 0.117 - 0.374\n",
      "epoch:2 | 0.116 - 0.63\n",
      "epoch:3 | 0.117 - 0.728\n",
      "epoch:4 | 0.117 - 0.768\n",
      "epoch:5 | 0.117 - 0.802\n",
      "epoch:6 | 0.117 - 0.811\n",
      "epoch:7 | 0.117 - 0.842\n",
      "epoch:8 | 0.117 - 0.866\n",
      "epoch:9 | 0.116 - 0.89\n",
      "epoch:10 | 0.116 - 0.913\n",
      "epoch:11 | 0.116 - 0.93\n",
      "epoch:12 | 0.117 - 0.938\n",
      "epoch:13 | 0.117 - 0.953\n",
      "epoch:14 | 0.116 - 0.961\n",
      "epoch:15 | 0.117 - 0.97\n",
      "epoch:16 | 0.116 - 0.976\n",
      "epoch:17 | 0.117 - 0.983\n",
      "epoch:18 | 0.117 - 0.985\n"
     ]
    },
    {
     "name": "stderr",
     "output_type": "stream",
     "text": [
      "No handles with labels found to put in legend.\n"
     ]
    },
    {
     "name": "stdout",
     "output_type": "stream",
     "text": [
      "epoch:19 | 0.117 - 0.989\n",
      "============== 8/16 ==============\n",
      "epoch:0 | 0.1 - 0.142\n",
      "epoch:1 | 0.117 - 0.534\n",
      "epoch:2 | 0.116 - 0.737\n",
      "epoch:3 | 0.117 - 0.804\n",
      "epoch:4 | 0.117 - 0.844\n",
      "epoch:5 | 0.116 - 0.9\n",
      "epoch:6 | 0.116 - 0.926\n",
      "epoch:7 | 0.117 - 0.948\n",
      "epoch:8 | 0.117 - 0.963\n",
      "epoch:9 | 0.117 - 0.973\n",
      "epoch:10 | 0.117 - 0.983\n",
      "epoch:11 | 0.117 - 0.988\n",
      "epoch:12 | 0.117 - 0.994\n",
      "epoch:13 | 0.117 - 0.993\n",
      "epoch:14 | 0.117 - 0.997\n",
      "epoch:15 | 0.117 - 0.999\n",
      "epoch:16 | 0.117 - 0.999\n",
      "epoch:17 | 0.117 - 0.999\n"
     ]
    },
    {
     "name": "stderr",
     "output_type": "stream",
     "text": [
      "No handles with labels found to put in legend.\n"
     ]
    },
    {
     "name": "stdout",
     "output_type": "stream",
     "text": [
      "epoch:18 | 0.117 - 0.999\n",
      "epoch:19 | 0.117 - 0.999\n",
      "============== 9/16 ==============\n",
      "epoch:0 | 0.117 - 0.113\n",
      "epoch:1 | 0.105 - 0.571\n",
      "epoch:2 | 0.117 - 0.739\n",
      "epoch:3 | 0.116 - 0.795\n",
      "epoch:4 | 0.117 - 0.855\n",
      "epoch:5 | 0.117 - 0.894\n",
      "epoch:6 | 0.117 - 0.955\n",
      "epoch:7 | 0.117 - 0.966\n",
      "epoch:8 | 0.117 - 0.984\n",
      "epoch:9 | 0.117 - 0.99\n",
      "epoch:10 | 0.117 - 0.993\n",
      "epoch:11 | 0.117 - 0.997\n",
      "epoch:12 | 0.117 - 0.998\n",
      "epoch:13 | 0.117 - 0.997\n",
      "epoch:14 | 0.117 - 0.998\n",
      "epoch:15 | 0.117 - 0.999\n",
      "epoch:16 | 0.117 - 1.0\n",
      "epoch:17 | 0.117 - 1.0\n",
      "epoch:18 | 0.117 - 1.0\n"
     ]
    },
    {
     "name": "stderr",
     "output_type": "stream",
     "text": [
      "No handles with labels found to put in legend.\n"
     ]
    },
    {
     "name": "stdout",
     "output_type": "stream",
     "text": [
      "epoch:19 | 0.117 - 1.0\n",
      "============== 10/16 ==============\n",
      "epoch:0 | 0.097 - 0.135\n",
      "epoch:1 | 0.117 - 0.499\n",
      "epoch:2 | 0.117 - 0.667\n",
      "epoch:3 | 0.117 - 0.797\n",
      "epoch:4 | 0.097 - 0.856\n",
      "epoch:5 | 0.117 - 0.874\n",
      "epoch:6 | 0.117 - 0.78\n",
      "epoch:7 | 0.117 - 0.907\n",
      "epoch:8 | 0.117 - 0.951\n",
      "epoch:9 | 0.116 - 0.966\n",
      "epoch:10 | 0.116 - 0.985\n",
      "epoch:11 | 0.117 - 0.941\n",
      "epoch:12 | 0.117 - 0.994\n",
      "epoch:13 | 0.116 - 0.995\n",
      "epoch:14 | 0.117 - 0.996\n",
      "epoch:15 | 0.117 - 0.997\n",
      "epoch:16 | 0.117 - 0.997\n",
      "epoch:17 | 0.117 - 0.985\n"
     ]
    },
    {
     "name": "stderr",
     "output_type": "stream",
     "text": [
      "No handles with labels found to put in legend.\n"
     ]
    },
    {
     "name": "stdout",
     "output_type": "stream",
     "text": [
      "epoch:18 | 0.117 - 0.998\n",
      "epoch:19 | 0.117 - 0.997\n",
      "============== 11/16 ==============\n",
      "epoch:0 | 0.087 - 0.141\n",
      "epoch:1 | 0.116 - 0.254\n",
      "epoch:2 | 0.116 - 0.732\n",
      "epoch:3 | 0.116 - 0.735\n",
      "epoch:4 | 0.116 - 0.768\n",
      "epoch:5 | 0.116 - 0.777\n",
      "epoch:6 | 0.116 - 0.781\n",
      "epoch:7 | 0.116 - 0.795\n",
      "epoch:8 | 0.117 - 0.857\n",
      "epoch:9 | 0.117 - 0.883\n",
      "epoch:10 | 0.117 - 0.892\n",
      "epoch:11 | 0.117 - 0.802\n",
      "epoch:12 | 0.116 - 0.894\n",
      "epoch:13 | 0.116 - 0.871\n",
      "epoch:14 | 0.116 - 0.901\n",
      "epoch:15 | 0.116 - 0.905\n",
      "epoch:16 | 0.116 - 0.905\n",
      "epoch:17 | 0.116 - 0.98\n",
      "epoch:18 | 0.116 - 0.989\n"
     ]
    },
    {
     "name": "stderr",
     "output_type": "stream",
     "text": [
      "No handles with labels found to put in legend.\n"
     ]
    },
    {
     "name": "stdout",
     "output_type": "stream",
     "text": [
      "epoch:19 | 0.116 - 0.986\n",
      "============== 12/16 ==============\n",
      "epoch:0 | 0.094 - 0.153\n",
      "epoch:1 | 0.117 - 0.55\n",
      "epoch:2 | 0.117 - 0.506\n",
      "epoch:3 | 0.117 - 0.659\n",
      "epoch:4 | 0.117 - 0.666\n",
      "epoch:5 | 0.117 - 0.704\n",
      "epoch:6 | 0.117 - 0.682\n",
      "epoch:7 | 0.117 - 0.692\n",
      "epoch:8 | 0.117 - 0.702\n",
      "epoch:9 | 0.117 - 0.752\n",
      "epoch:10 | 0.117 - 0.782\n",
      "epoch:11 | 0.117 - 0.798\n",
      "epoch:12 | 0.117 - 0.788\n",
      "epoch:13 | 0.117 - 0.8\n",
      "epoch:14 | 0.117 - 0.801\n",
      "epoch:15 | 0.117 - 0.8\n",
      "epoch:16 | 0.117 - 0.8\n",
      "epoch:17 | 0.117 - 0.8\n"
     ]
    },
    {
     "name": "stderr",
     "output_type": "stream",
     "text": [
      "No handles with labels found to put in legend.\n"
     ]
    },
    {
     "name": "stdout",
     "output_type": "stream",
     "text": [
      "epoch:18 | 0.117 - 0.801\n",
      "epoch:19 | 0.117 - 0.801\n",
      "============== 13/16 ==============\n",
      "epoch:0 | 0.087 - 0.164\n",
      "epoch:1 | 0.117 - 0.372\n",
      "epoch:2 | 0.116 - 0.44\n",
      "epoch:3 | 0.116 - 0.607\n",
      "epoch:4 | 0.116 - 0.647\n",
      "epoch:5 | 0.116 - 0.683\n",
      "epoch:6 | 0.116 - 0.76\n",
      "epoch:7 | 0.116 - 0.717\n",
      "epoch:8 | 0.116 - 0.7\n",
      "epoch:9 | 0.116 - 0.768\n",
      "epoch:10 | 0.116 - 0.793\n",
      "epoch:11 | 0.116 - 0.688\n",
      "epoch:12 | 0.116 - 0.797\n",
      "epoch:13 | 0.116 - 0.802\n",
      "epoch:14 | 0.116 - 0.806\n",
      "epoch:15 | 0.116 - 0.808\n",
      "epoch:16 | 0.116 - 0.797\n",
      "epoch:17 | 0.116 - 0.807\n",
      "epoch:18 | 0.116 - 0.808\n"
     ]
    },
    {
     "name": "stderr",
     "output_type": "stream",
     "text": [
      "No handles with labels found to put in legend.\n"
     ]
    },
    {
     "name": "stdout",
     "output_type": "stream",
     "text": [
      "epoch:19 | 0.116 - 0.806\n",
      "============== 14/16 ==============\n",
      "epoch:0 | 0.097 - 0.16\n",
      "epoch:1 | 0.105 - 0.311\n",
      "epoch:2 | 0.105 - 0.472\n",
      "epoch:3 | 0.105 - 0.602\n",
      "epoch:4 | 0.117 - 0.616\n",
      "epoch:5 | 0.117 - 0.66\n",
      "epoch:6 | 0.117 - 0.684\n",
      "epoch:7 | 0.117 - 0.623\n",
      "epoch:8 | 0.117 - 0.667\n",
      "epoch:9 | 0.117 - 0.692\n",
      "epoch:10 | 0.117 - 0.691\n",
      "epoch:11 | 0.117 - 0.692\n",
      "epoch:12 | 0.117 - 0.658\n",
      "epoch:13 | 0.117 - 0.698\n",
      "epoch:14 | 0.117 - 0.69\n",
      "epoch:15 | 0.117 - 0.698\n",
      "epoch:16 | 0.117 - 0.699\n",
      "epoch:17 | 0.117 - 0.698\n",
      "epoch:18 | 0.117 - 0.699\n",
      "epoch:19 | 0.117 - 0.695\n"
     ]
    },
    {
     "name": "stderr",
     "output_type": "stream",
     "text": [
      "No handles with labels found to put in legend.\n"
     ]
    },
    {
     "name": "stdout",
     "output_type": "stream",
     "text": [
      "============== 15/16 ==============\n",
      "epoch:0 | 0.117 - 0.099\n",
      "epoch:1 | 0.117 - 0.385\n",
      "epoch:2 | 0.117 - 0.423\n",
      "epoch:3 | 0.117 - 0.404\n",
      "epoch:4 | 0.117 - 0.423\n",
      "epoch:5 | 0.117 - 0.429\n",
      "epoch:6 | 0.117 - 0.509\n",
      "epoch:7 | 0.117 - 0.328\n",
      "epoch:8 | 0.117 - 0.502\n",
      "epoch:9 | 0.117 - 0.515\n",
      "epoch:10 | 0.117 - 0.522\n",
      "epoch:11 | 0.116 - 0.501\n",
      "epoch:12 | 0.116 - 0.523\n",
      "epoch:13 | 0.116 - 0.509\n",
      "epoch:14 | 0.116 - 0.522\n",
      "epoch:15 | 0.116 - 0.53\n",
      "epoch:16 | 0.116 - 0.52\n",
      "epoch:17 | 0.116 - 0.528\n"
     ]
    },
    {
     "name": "stderr",
     "output_type": "stream",
     "text": [
      "No handles with labels found to put in legend.\n"
     ]
    },
    {
     "name": "stdout",
     "output_type": "stream",
     "text": [
      "epoch:18 | 0.116 - 0.528\n",
      "epoch:19 | 0.116 - 0.527\n",
      "============== 16/16 ==============\n",
      "epoch:0 | 0.099 - 0.132\n",
      "epoch:1 | 0.117 - 0.2\n",
      "epoch:2 | 0.116 - 0.278\n",
      "epoch:3 | 0.116 - 0.383\n",
      "epoch:4 | 0.117 - 0.393\n",
      "epoch:5 | 0.117 - 0.308\n",
      "epoch:6 | 0.116 - 0.388\n",
      "epoch:7 | 0.117 - 0.395\n",
      "epoch:8 | 0.117 - 0.403\n",
      "epoch:9 | 0.117 - 0.409\n",
      "epoch:10 | 0.117 - 0.396\n",
      "epoch:11 | 0.117 - 0.396\n",
      "epoch:12 | 0.117 - 0.417\n",
      "epoch:13 | 0.116 - 0.418\n",
      "epoch:14 | 0.117 - 0.419\n",
      "epoch:15 | 0.116 - 0.42\n",
      "epoch:16 | 0.117 - 0.418\n",
      "epoch:17 | 0.117 - 0.422\n",
      "epoch:18 | 0.116 - 0.422\n",
      "epoch:19 | 0.117 - 0.423\n"
     ]
    },
    {
     "data": {
      "image/png": "[encoded data removed]",
      "text/plain": [
       "<Figure size 432x288 with 16 Axes>"
      ]
     },
     "metadata": {
      "needs_background": "light"
     },
     "output_type": "display_data"
    }
   ],
   "source": [
    "# coding: utf-8\n",
    "import sys, os\n",
    "sys.path.append(os.pardir)  # 为了导入父目录的文件而进行的设定\n",
    "import numpy as np\n",
    "import matplotlib.pyplot as plt\n",
    "from dataset.mnist import load_mnist\n",
    "from common.multi_layer_net_extend import MultiLayerNetExtend\n",
    "from common.optimizer import SGD, Adam\n",
    "\n",
    "(x_train, t_train), (x_test, t_test) = load_mnist(normalize=True)\n",
    "\n",
    "# 减少学习数据\n",
    "x_train = x_train[:1000]\n",
    "t_train = t_train[:1000]\n",
    "\n",
    "max_epochs = 20\n",
    "train_size = x_train.shape[0]\n",
    "batch_size = 100\n",
    "learning_rate = 0.01\n",
    "\n",
    "\n",
    "def __train(weight_init_std):\n",
    "    bn_network = MultiLayerNetExtend(input_size=784, hidden_size_list=[100, 100, 100, 100, 100], output_size=10, \n",
    "                                    weight_init_std=weight_init_std, use_batchnorm=True)\n",
    "    network = MultiLayerNetExtend(input_size=784, hidden_size_list=[100, 100, 100, 100, 100], output_size=10,\n",
    "                                weight_init_std=weight_init_std)\n",
    "    optimizer = SGD(lr=learning_rate)\n",
    "    \n",
    "    train_acc_list = []\n",
    "    bn_train_acc_list = []\n",
    "    \n",
    "    iter_per_epoch = max(train_size / batch_size, 1)\n",
    "    epoch_cnt = 0\n",
    "    \n",
    "    for i in range(1000000000):\n",
    "        batch_mask = np.random.choice(train_size, batch_size)\n",
    "        x_batch = x_train[batch_mask]\n",
    "        t_batch = t_train[batch_mask]\n",
    "    \n",
    "        for _network in (bn_network, network):\n",
    "            grads = _network.gradient(x_batch, t_batch)\n",
    "            optimizer.update(_network.params, grads)\n",
    "    \n",
    "        if i % iter_per_epoch == 0:\n",
    "            train_acc = network.accuracy(x_train, t_train)\n",
    "            bn_train_acc = bn_network.accuracy(x_train, t_train)\n",
    "            train_acc_list.append(train_acc)\n",
    "            bn_train_acc_list.append(bn_train_acc)\n",
    "    \n",
    "            print(\"epoch:\" + str(epoch_cnt) + \" | \" + str(train_acc) + \" - \" + str(bn_train_acc))\n",
    "    \n",
    "            epoch_cnt += 1\n",
    "            if epoch_cnt >= max_epochs:\n",
    "                break\n",
    "                \n",
    "    return train_acc_list, bn_train_acc_list\n",
    "\n",
    "\n",
    "# 3.绘制图形==========\n",
    "weight_scale_list = np.logspace(0, -4, num=16)\n",
    "x = np.arange(max_epochs)\n",
    "\n",
    "for i, w in enumerate(weight_scale_list):\n",
    "    print( \"============== \" + str(i+1) + \"/16\" + \" ==============\")\n",
    "    train_acc_list, bn_train_acc_list = __train(w)\n",
    "    \n",
    "    plt.subplot(4,4,i+1)\n",
    "    plt.title(\"W:\" + str(w))\n",
    "    if i == 15:\n",
    "        plt.plot(x, bn_train_acc_list, label='Batch Normalization', markevery=2)\n",
    "        plt.plot(x, train_acc_list, linestyle = \"--\", label='Normal(without BatchNorm)', markevery=2)\n",
    "    else:\n",
    "        plt.plot(x, bn_train_acc_list, markevery=2)\n",
    "        plt.plot(x, train_acc_list, linestyle=\"--\", markevery=2)\n",
    "\n",
    "    plt.ylim(0, 10.0)\n",
    "    if i % 4:\n",
    "        plt.yticks([])\n",
    "    else:\n",
    "        plt.ylabel(\"accuracy\")\n",
    "    if i < 12:\n",
    "        plt.xticks([])\n",
    "    else:\n",
    "        plt.xlabel(\"epochs\")\n",
    "    plt.legend(loc='lower right')\n",
    "    \n",
    "plt.show()"
   ]
  },
  {
   "cell_type": "code",
   "execution_count": null,
   "id": "58a228d1",
   "metadata": {},
   "outputs": [],
   "source": []
  }
 ],
 "metadata": {
  "kernelspec": {
   "display_name": "Python 3",
   "language": "python",
   "name": "python3"
  },
  "language_info": {
   "codemirror_mode": {
    "name": "ipython",
    "version": 3
   },
   "file_extension": ".py",
   "mimetype": "text/x-python",
   "name": "python",
   "nbconvert_exporter": "python",
   "pygments_lexer": "ipython3",
   "version": "3.8.10"
  }
 },
 "nbformat": 4,
 "nbformat_minor": 5
}
