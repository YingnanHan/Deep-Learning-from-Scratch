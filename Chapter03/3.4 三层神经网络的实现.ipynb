{
 "cells": [
  {
   "cell_type": "code",
   "execution_count": 1,
   "metadata": {},
   "outputs": [],
   "source": [
    "import numpy as np"
   ]
  },
  {
   "cell_type": "markdown",
   "metadata": {},
   "source": [
    "###### 第一层的数据准备"
   ]
  },
  {
   "cell_type": "code",
   "execution_count": 2,
   "metadata": {},
   "outputs": [
    {
     "name": "stdout",
     "output_type": "stream",
     "text": [
      "(2, 3)\n",
      "(3,)\n",
      "(2,)\n"
     ]
    }
   ],
   "source": [
    "X = np.array([1.0,5.0])\n",
    "W1 = np.array([\n",
    "    [0.1,0.3,0.5],\n",
    "    [0.2,0.4,0.6]\n",
    "])\n",
    "B1 = np.array([\n",
    "    0.1,0.2,0.3\n",
    "])\n",
    "\n",
    "print(W1.shape) # (2,3)\n",
    "print(B1.shape) # (3,)\n",
    "print(X.shape) # (2,)"
   ]
  },
  {
   "cell_type": "markdown",
   "metadata": {},
   "source": [
    "###### 处理从第一层到第二层之间的神经网络信号的传递"
   ]
  },
  {
   "cell_type": "code",
   "execution_count": 3,
   "metadata": {},
   "outputs": [
    {
     "data": {
      "text/plain": [
       "array([1.2, 2.5, 3.8])"
      ]
     },
     "execution_count": 3,
     "metadata": {},
     "output_type": "execute_result"
    }
   ],
   "source": [
    "A1 = np.dot(X,W1)+B1\n",
    "A1"
   ]
  },
  {
   "cell_type": "markdown",
   "metadata": {},
   "source": [
    "#### 经过sigmoid函数处理后的神经网络信号传递"
   ]
  },
  {
   "cell_type": "code",
   "execution_count": 4,
   "metadata": {},
   "outputs": [],
   "source": [
    "def sigmoid(x):\n",
    "    return 1/(1+np.exp(-x))"
   ]
  },
  {
   "cell_type": "code",
   "execution_count": 5,
   "metadata": {},
   "outputs": [
    {
     "name": "stdout",
     "output_type": "stream",
     "text": [
      "(3,)\n",
      "(3, 2)\n",
      "(2,)\n"
     ]
    }
   ],
   "source": [
    "W2 = np.array([ #Wk 的规模取决于相邻层神经网络节点的规模\n",
    "    [0.1,0.4],  #前一层的节点数量是行数后一层节点数量为列数\n",
    "    [0.2,0.5],  #这里面的数量的计算不包含偏置b\n",
    "    [0.3,0.6]\n",
    "])\n",
    "Z1 = sigmoid(A1) #第一层的输出变成了第二层的输入\n",
    "B2 = np.array([0.1,0.2])\n",
    "\n",
    "print(Z1.shape) #(3,)\n",
    "print(W2.shape) #(3,2)\n",
    "print(B2.shape) #(2,)"
   ]
  },
  {
   "cell_type": "code",
   "execution_count": 6,
   "metadata": {},
   "outputs": [
    {
     "data": {
      "text/plain": [
       "array([0.65511646, 1.55635206])"
      ]
     },
     "execution_count": 6,
     "metadata": {},
     "output_type": "execute_result"
    }
   ],
   "source": [
    "A2 = np.dot(Z1,W2) + B2\n",
    "A2"
   ]
  },
  {
   "cell_type": "markdown",
   "metadata": {},
   "source": [
    "##### 第二层的输入数据"
   ]
  },
  {
   "cell_type": "code",
   "execution_count": 7,
   "metadata": {},
   "outputs": [
    {
     "data": {
      "text/plain": [
       "array([0.65816252, 0.82582927])"
      ]
     },
     "execution_count": 7,
     "metadata": {},
     "output_type": "execute_result"
    }
   ],
   "source": [
    "Z2 = sigmoid(A2)\n",
    "Z2"
   ]
  },
  {
   "cell_type": "code",
   "execution_count": 8,
   "metadata": {},
   "outputs": [],
   "source": [
    "def identify_function(x):#为了保持和此前风格的一致性，定义一个输出层的激活函数\n",
    "    return x"
   ]
  },
  {
   "cell_type": "code",
   "execution_count": 9,
   "metadata": {},
   "outputs": [],
   "source": [
    "W3 = np.array([\n",
    "    [0.1,0.3],\n",
    "    [0.2,0.4]\n",
    "])\n",
    "B3 = np.array([\n",
    "    0.1,0.2\n",
    "])\n",
    "\n",
    "A3 = np.dot(Z2,W3) + B3"
   ]
  },
  {
   "cell_type": "code",
   "execution_count": 10,
   "metadata": {},
   "outputs": [
    {
     "data": {
      "text/plain": [
       "array([0.33098211, 0.72778046])"
      ]
     },
     "execution_count": 10,
     "metadata": {},
     "output_type": "execute_result"
    }
   ],
   "source": [
    "Y = identify_function(A3)\n",
    "Y"
   ]
  }
 ],
 "metadata": {
  "kernelspec": {
   "display_name": "Python 3",
   "language": "python",
   "name": "python3"
  },
  "language_info": {
   "codemirror_mode": {
    "name": "ipython",
    "version": 3
   },
   "file_extension": ".py",
   "mimetype": "text/x-python",
   "name": "python",
   "nbconvert_exporter": "python",
   "pygments_lexer": "ipython3",
   "version": "3.8.5"
  }
 },
 "nbformat": 4,
 "nbformat_minor": 4
}
